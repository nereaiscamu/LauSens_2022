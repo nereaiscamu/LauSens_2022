{
 "cells": [
  {
   "cell_type": "markdown",
   "id": "adcc34f1",
   "metadata": {},
   "source": [
    "# SenSwiss 2021\n",
    "\n",
    "Code to run in parallel with the acquisition of images in SpinView and to control the pump.\n",
    "\n",
    "Instructions: \n",
    "\n",
    "* Check that the **exposure time** of the camera is constant 11113us\n",
    "* Check you have a folder named `/focus` at the main path\n",
    "* Create a **new folder for the measurement** `/images/NEW_FOLDER_FOR_NEW_TEST` (this needs to be done each time, not in advance!!! (code checks last created folder))\n",
    "* Follow the instructions below\n",
    "* For acquisition in SpinView, save the images in the folder you created in step 3 as type .tiff\n",
    "* If the chip moves at some point, take another image and re-run press_ROI\n",
    "* Look that everything is okay in the prints\n",
    "* Press ctrl-j (for like 1-2seconds) when you want to finish computing the preprocessing and analysis and save the results in result.csv, which will be placed in the folder of step 3."
   ]
  },
  {
   "cell_type": "code",
   "execution_count": 2,
   "id": "115a84ba",
   "metadata": {},
   "outputs": [],
   "source": [
    "import pandas as pd\n",
    "import matplotlib.pyplot as plt\n",
    "import os\n",
    "import keyboard\n",
    "import sys\n",
    "import serial\n",
    "import time\n",
    "\n",
    "import run_parallel\n",
    "from pump import *\n",
    "from run_parallel import describe_folders, press_ROIs, run_analysis"
   ]
  },
  {
   "cell_type": "markdown",
   "id": "a4a49ed3",
   "metadata": {},
   "source": [
    "## 0. Pump"
   ]
  },
  {
   "cell_type": "markdown",
   "id": "945e7fd0",
   "metadata": {},
   "source": [
    "To connect the pump to the computer (only done at the very beginning of times)."
   ]
  },
  {
   "cell_type": "code",
   "execution_count": 6,
   "id": "6065c2ec",
   "metadata": {},
   "outputs": [
    {
     "name": "stdout",
     "output_type": "stream",
     "text": [
      "LSPone connected on  COM3\n",
      "LSP one ready\n"
     ]
    }
   ],
   "source": [
    "# Open serial connection -> check COM port on your device\n",
    "lsp = serial.Serial('COM3', 9600, timeout=1000)  # TODO: change the comport depending on your computer\n",
    "print('LSPone connected on ', lsp.name)\n",
    "\n",
    "# Initialise LSPone normally already done\n",
    "initialise_LSPone(lsp)"
   ]
  },
  {
   "cell_type": "code",
   "execution_count": 7,
   "id": "77fb9d66",
   "metadata": {},
   "outputs": [],
   "source": [
    "# 0. General Cleaning # this were i start\n",
    "# 2: PBS, 3: Air, 4: Ethanol   (order of the tubes in the pump)\n",
    "general_cleaning_procedure(lsp)"
   ]
  },
  {
   "cell_type": "markdown",
   "id": "ce01a32d",
   "metadata": {},
   "source": [
    "## Starting the measurements"
   ]
  },
  {
   "cell_type": "markdown",
   "id": "c20842b7",
   "metadata": {},
   "source": [
    "#### 1. Take a photo with SpinView of the spots -> save at `/focus`"
   ]
  },
  {
   "cell_type": "markdown",
   "id": "12403cda",
   "metadata": {},
   "source": [
    "#### 2. Create a folder named `/images/NEW_FOLDER_FOR_NEW_TEST` and set everything up in SpinView: photo each 2000ms for 240000ms"
   ]
  },
  {
   "cell_type": "markdown",
   "id": "aa190b22",
   "metadata": {},
   "source": [
    "#### 3. Aspire the Blocking Buffer"
   ]
  },
  {
   "cell_type": "code",
   "execution_count": 4,
   "id": "0196edc5",
   "metadata": {},
   "outputs": [],
   "source": [
    "# Sucking BB at 50 ul/min\n",
    "pick_BB(lsp)"
   ]
  },
  {
   "cell_type": "markdown",
   "id": "1a54563b",
   "metadata": {},
   "source": [
    "#### 4. Select ROI\n"
   ]
  },
  {
   "cell_type": "code",
   "execution_count": 6,
   "id": "7355d48a",
   "metadata": {},
   "outputs": [
    {
     "name": "stdout",
     "output_type": "stream",
     "text": [
      "THIS IS ORIGINAL FOLDER PATH C:\\Users\\willi\\Documents\\SensUs_2021_Code-run_parallel_20210830\\SensUs_2021_Code-run_parallel\n",
      "C:\\Users\\willi\\Documents\\SensUs_2021_Code-run_parallel_20210830\\SensUs_2021_Code-run_parallel\\focus\n",
      "['.gitkeep']\n",
      "ROI PATH C:\\Users\\willi\\Documents\\SensUs_2021_Code-run_parallel_20210830\\SensUs_2021_Code-run_parallel\\focus\\.gitkeep\n",
      "Select the ROI. Press right button if you want to delete. The last 2 ROIs will be used as background. Press 'q' when you have finished. \n"
     ]
    },
    {
     "ename": "error",
     "evalue": "OpenCV(4.5.3) C:\\Users\\runneradmin\\AppData\\Local\\Temp\\pip-req-build-q3d_8t8e\\opencv\\modules\\imgproc\\src\\resize.cpp:4051: error: (-215:Assertion failed) !ssize.empty() in function 'cv::resize'\n",
     "output_type": "error",
     "traceback": [
      "\u001b[1;31m---------------------------------------------------------------------------\u001b[0m",
      "\u001b[1;31merror\u001b[0m                                     Traceback (most recent call last)",
      "\u001b[1;32m<ipython-input-6-3b9f9a0e9134>\u001b[0m in \u001b[0;36m<module>\u001b[1;34m\u001b[0m\n\u001b[0;32m      1\u001b[0m \u001b[1;31m# Select ROI\u001b[0m\u001b[1;33m\u001b[0m\u001b[1;33m\u001b[0m\u001b[1;33m\u001b[0m\u001b[0m\n\u001b[0;32m      2\u001b[0m \u001b[0mORIGINAL_FOLDER\u001b[0m\u001b[1;33m,\u001b[0m \u001b[0mIMG_PROCESSED_FOLDER\u001b[0m\u001b[1;33m,\u001b[0m \u001b[0mIMG_FOLDER\u001b[0m\u001b[1;33m,\u001b[0m \u001b[0mDIR_ROI\u001b[0m\u001b[1;33m,\u001b[0m \u001b[0mDIR\u001b[0m \u001b[1;33m=\u001b[0m \u001b[0mdescribe_folders\u001b[0m\u001b[1;33m(\u001b[0m\u001b[1;33m)\u001b[0m\u001b[1;33m\u001b[0m\u001b[1;33m\u001b[0m\u001b[0m\n\u001b[1;32m----> 3\u001b[1;33m \u001b[0mROIs\u001b[0m \u001b[1;33m=\u001b[0m \u001b[0mpress_ROIs\u001b[0m\u001b[1;33m(\u001b[0m\u001b[0mDIR_ROI\u001b[0m\u001b[1;33m,\u001b[0m \u001b[0mORIGINAL_FOLDER\u001b[0m\u001b[1;33m)\u001b[0m\u001b[1;33m\u001b[0m\u001b[1;33m\u001b[0m\u001b[0m\n\u001b[0m",
      "\u001b[1;32m~\\Documents\\SensUs_2021_Code-run_parallel_20210830\\SensUs_2021_Code-run_parallel\\run_parallel.py\u001b[0m in \u001b[0;36mpress_ROIs\u001b[1;34m(DIR_ROI, ORIGINAL_FOLDER, RADIUS)\u001b[0m\n\u001b[0;32m     62\u001b[0m     \u001b[0mprint\u001b[0m\u001b[1;33m(\u001b[0m\u001b[1;34m'ROI PATH'\u001b[0m\u001b[1;33m,\u001b[0m \u001b[0mROI_path\u001b[0m\u001b[1;33m)\u001b[0m\u001b[1;33m\u001b[0m\u001b[1;33m\u001b[0m\u001b[0m\n\u001b[0;32m     63\u001b[0m     \u001b[0mos\u001b[0m\u001b[1;33m.\u001b[0m\u001b[0mchdir\u001b[0m\u001b[1;33m(\u001b[0m\u001b[0mORIGINAL_FOLDER\u001b[0m\u001b[1;33m)\u001b[0m  \u001b[1;31m# going back to original working directory\u001b[0m\u001b[1;33m\u001b[0m\u001b[1;33m\u001b[0m\u001b[0m\n\u001b[1;32m---> 64\u001b[1;33m     \u001b[0mROIs\u001b[0m \u001b[1;33m=\u001b[0m \u001b[0mselect_ROI\u001b[0m\u001b[1;33m(\u001b[0m\u001b[0mROI_path\u001b[0m\u001b[1;33m,\u001b[0m \u001b[0mRADIUS\u001b[0m \u001b[1;33m=\u001b[0m \u001b[0mRADIUS\u001b[0m\u001b[1;33m)\u001b[0m\u001b[1;33m\u001b[0m\u001b[1;33m\u001b[0m\u001b[0m\n\u001b[0m\u001b[0;32m     65\u001b[0m     \u001b[0mtime\u001b[0m\u001b[1;33m.\u001b[0m\u001b[0msleep\u001b[0m\u001b[1;33m(\u001b[0m\u001b[1;36m1\u001b[0m\u001b[1;33m)\u001b[0m\u001b[1;33m\u001b[0m\u001b[1;33m\u001b[0m\u001b[0m\n\u001b[0;32m     66\u001b[0m     \u001b[1;32mreturn\u001b[0m \u001b[0mROIs\u001b[0m\u001b[1;33m\u001b[0m\u001b[1;33m\u001b[0m\u001b[0m\n",
      "\u001b[1;32m~\\Documents\\SensUs_2021_Code-run_parallel_20210830\\SensUs_2021_Code-run_parallel\\processing\\processing_functions.py\u001b[0m in \u001b[0;36mselect_ROI\u001b[1;34m(ROI_PATH, scale_f, RADIUS)\u001b[0m\n\u001b[0;32m     76\u001b[0m \u001b[1;33m\u001b[0m\u001b[0m\n\u001b[0;32m     77\u001b[0m     \u001b[0mimage_size\u001b[0m \u001b[1;33m=\u001b[0m \u001b[1;33m(\u001b[0m\u001b[0mint\u001b[0m\u001b[1;33m(\u001b[0m\u001b[1;36m5472\u001b[0m\u001b[1;33m/\u001b[0m\u001b[0mscale_f\u001b[0m\u001b[1;33m)\u001b[0m\u001b[1;33m,\u001b[0m \u001b[0mint\u001b[0m\u001b[1;33m(\u001b[0m\u001b[1;36m3648\u001b[0m\u001b[1;33m/\u001b[0m\u001b[0mscale_f\u001b[0m\u001b[1;33m)\u001b[0m\u001b[1;33m)\u001b[0m\u001b[1;33m\u001b[0m\u001b[1;33m\u001b[0m\u001b[0m\n\u001b[1;32m---> 78\u001b[1;33m     \u001b[0msmall_ROIs\u001b[0m \u001b[1;33m=\u001b[0m \u001b[0mexecute_roi\u001b[0m\u001b[1;33m(\u001b[0m\u001b[0mROI_PATH\u001b[0m\u001b[1;33m,\u001b[0m \u001b[0mimage_size\u001b[0m\u001b[1;33m,\u001b[0m \u001b[0mint\u001b[0m\u001b[1;33m(\u001b[0m\u001b[0mRADIUS\u001b[0m\u001b[1;33m/\u001b[0m\u001b[0mscale_f\u001b[0m\u001b[1;33m)\u001b[0m\u001b[1;33m)\u001b[0m  \u001b[1;31m# returned as x, y, radius\u001b[0m\u001b[1;33m\u001b[0m\u001b[1;33m\u001b[0m\u001b[0m\n\u001b[0m\u001b[0;32m     79\u001b[0m     \u001b[0mROIs\u001b[0m \u001b[1;33m=\u001b[0m \u001b[0mnp\u001b[0m\u001b[1;33m.\u001b[0m\u001b[0marray\u001b[0m\u001b[1;33m(\u001b[0m\u001b[0msmall_ROIs\u001b[0m\u001b[1;33m)\u001b[0m\u001b[1;33m*\u001b[0m\u001b[0mscale_f\u001b[0m  \u001b[1;31m# x, y, radius\u001b[0m\u001b[1;33m\u001b[0m\u001b[1;33m\u001b[0m\u001b[0m\n\u001b[0;32m     80\u001b[0m     \u001b[0mprint\u001b[0m\u001b[1;33m(\u001b[0m\u001b[1;34m'ROIs:\\n'\u001b[0m\u001b[1;33m,\u001b[0m \u001b[0mROIs\u001b[0m\u001b[1;33m)\u001b[0m\u001b[1;33m\u001b[0m\u001b[1;33m\u001b[0m\u001b[0m\n",
      "\u001b[1;32m~\\Documents\\SensUs_2021_Code-run_parallel_20210830\\SensUs_2021_Code-run_parallel\\processing\\Select_ROI.py\u001b[0m in \u001b[0;36mexecute_roi\u001b[1;34m(path_image, image_size, cc)\u001b[0m\n\u001b[0;32m     50\u001b[0m \u001b[1;33m\u001b[0m\u001b[0m\n\u001b[0;32m     51\u001b[0m     \u001b[1;31m# reading the image\u001b[0m\u001b[1;33m\u001b[0m\u001b[1;33m\u001b[0m\u001b[1;33m\u001b[0m\u001b[0m\n\u001b[1;32m---> 52\u001b[1;33m     \u001b[0mimg\u001b[0m \u001b[1;33m=\u001b[0m \u001b[0mcv2\u001b[0m\u001b[1;33m.\u001b[0m\u001b[0mresize\u001b[0m\u001b[1;33m(\u001b[0m\u001b[0mcv2\u001b[0m\u001b[1;33m.\u001b[0m\u001b[0mimread\u001b[0m\u001b[1;33m(\u001b[0m\u001b[0mpath_image\u001b[0m\u001b[1;33m,\u001b[0m \u001b[1;36m0\u001b[0m\u001b[1;33m)\u001b[0m\u001b[1;33m,\u001b[0m \u001b[0mimage_size\u001b[0m\u001b[1;33m)\u001b[0m\u001b[1;33m\u001b[0m\u001b[1;33m\u001b[0m\u001b[0m\n\u001b[0m\u001b[0;32m     53\u001b[0m \u001b[1;33m\u001b[0m\u001b[0m\n\u001b[0;32m     54\u001b[0m     \u001b[0mcv2\u001b[0m\u001b[1;33m.\u001b[0m\u001b[0mstartWindowThread\u001b[0m\u001b[1;33m(\u001b[0m\u001b[1;33m)\u001b[0m\u001b[1;33m\u001b[0m\u001b[1;33m\u001b[0m\u001b[0m\n",
      "\u001b[1;31merror\u001b[0m: OpenCV(4.5.3) C:\\Users\\runneradmin\\AppData\\Local\\Temp\\pip-req-build-q3d_8t8e\\opencv\\modules\\imgproc\\src\\resize.cpp:4051: error: (-215:Assertion failed) !ssize.empty() in function 'cv::resize'\n"
     ]
    }
   ],
   "source": [
    "# Select ROI\n",
    "ORIGINAL_FOLDER, IMG_PROCESSED_FOLDER, IMG_FOLDER, DIR_ROI, DIR = describe_folders()\n",
    "ROIs = press_ROIs(DIR_ROI, ORIGINAL_FOLDER)"
   ]
  },
  {
   "cell_type": "markdown",
   "id": "d87138d1",
   "metadata": {},
   "source": [
    "#### 5. Start running preprocess and analysis"
   ]
  },
  {
   "cell_type": "code",
   "execution_count": null,
   "id": "b9143667",
   "metadata": {},
   "outputs": [],
   "source": [
    "# Run processing and analysis\n",
    "run_analysis(ROIs, IMG_FOLDER=IMG_FOLDER, DIR=DIR, window_size=5, framerate=2, threshold=140)"
   ]
  },
  {
   "cell_type": "markdown",
   "id": "cb8d9c79",
   "metadata": {},
   "source": [
    "#### 6. Flow the sample"
   ]
  },
  {
   "cell_type": "code",
   "execution_count": null,
   "id": "6b4077e7",
   "metadata": {},
   "outputs": [],
   "source": [
    "# Push and pull sample at 50 ul/min\n",
    "push_pull_sample_n_times(lsp, n = 4)"
   ]
  },
  {
   "cell_type": "markdown",
   "id": "5326fbdc",
   "metadata": {},
   "source": [
    "#### 7. SpinView start recording -> save at `/images/NEW_FOLDER_FOR_NEW_TEST` as soon as you see liquid"
   ]
  },
  {
   "cell_type": "markdown",
   "id": "7c36751d",
   "metadata": {},
   "source": [
    "#### 8. View results (change name)"
   ]
  },
  {
   "cell_type": "code",
   "execution_count": null,
   "id": "dd2616b2",
   "metadata": {},
   "outputs": [],
   "source": [
    "# Loading results\n",
    "result_df = pd.read_csv('./images/20210828/result.csv')   # TODO CHANGE NAME\n",
    "result_df['Signal'].plot()"
   ]
  },
  {
   "cell_type": "code",
   "execution_count": null,
   "id": "d63d0530",
   "metadata": {},
   "outputs": [],
   "source": [
    "# Running in parallel (if you want to run all at once)\n",
    "# run_parallel.main()"
   ]
  },
  {
   "cell_type": "markdown",
   "id": "c166c316",
   "metadata": {},
   "source": [
    "#### 9. Clean pump"
   ]
  },
  {
   "cell_type": "code",
   "execution_count": null,
   "id": "77366aca",
   "metadata": {},
   "outputs": [],
   "source": [
    "# 0. General Cleaning \n",
    "# 2: PBS, 3: Air, 4: Ethanol   (order of the tubes in the pump)\n",
    "general_cleaning_procedure_fast(lsp)"
   ]
  }
 ],
 "metadata": {
  "kernelspec": {
   "display_name": "Python 3",
   "language": "python",
   "name": "python3"
  },
  "language_info": {
   "codemirror_mode": {
    "name": "ipython",
    "version": 3
   },
   "file_extension": ".py",
   "mimetype": "text/x-python",
   "name": "python",
   "nbconvert_exporter": "python",
   "pygments_lexer": "ipython3",
   "version": "3.8.8"
  }
 },
 "nbformat": 4,
 "nbformat_minor": 5
}
