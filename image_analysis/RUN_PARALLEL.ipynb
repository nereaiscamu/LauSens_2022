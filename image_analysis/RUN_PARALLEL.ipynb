{
 "cells": [
  {
   "cell_type": "markdown",
   "id": "adcc34f1",
   "metadata": {},
   "source": [
    "# SenSwiss 2021\n",
    "\n",
    "Code to run in parallel with the acquisition of images in SpinView and to control the pump.\n",
    "\n",
    "Instructions: \n",
    "\n",
    "* Check that the **exposure time** of the camera is constant 11113us\n",
    "* Check you have a folder named `/focus` at the main path\n",
    "* Create a **new folder for the measurement** `/images/NEW_FOLDER_FOR_NEW_TEST` (this needs to be done each time, not in advance!!! (code checks last created folder))\n",
    "* Follow the instructions below\n",
    "* For acquisition in SpinView, save the images in the folder you created in step 3 as type .tiff\n",
    "* If the chip moves at some point, take another image and re-run press_ROI\n",
    "* Look that everything is okay in the prints\n",
    "* Press ctrl-j (for like 1-2seconds) when you want to finish computing the preprocessing and analysis and save the results in result.csv, which will be placed in the folder of step 3."
   ]
  },
  {
   "cell_type": "code",
   "execution_count": 1,
   "id": "115a84ba",
   "metadata": {},
   "outputs": [
    {
     "ename": "ModuleNotFoundError",
     "evalue": "No module named 'keyboard'",
     "output_type": "error",
     "traceback": [
      "\u001b[1;31m---------------------------------------------------------------------------\u001b[0m",
      "\u001b[1;31mModuleNotFoundError\u001b[0m                       Traceback (most recent call last)",
      "\u001b[1;32m~\\AppData\\Local\\Temp\\ipykernel_22588\\600836038.py\u001b[0m in \u001b[0;36m<cell line: 4>\u001b[1;34m()\u001b[0m\n\u001b[0;32m      2\u001b[0m \u001b[1;32mimport\u001b[0m \u001b[0mmatplotlib\u001b[0m\u001b[1;33m.\u001b[0m\u001b[0mpyplot\u001b[0m \u001b[1;32mas\u001b[0m \u001b[0mplt\u001b[0m\u001b[1;33m\u001b[0m\u001b[1;33m\u001b[0m\u001b[0m\n\u001b[0;32m      3\u001b[0m \u001b[1;32mimport\u001b[0m \u001b[0mos\u001b[0m\u001b[1;33m\u001b[0m\u001b[1;33m\u001b[0m\u001b[0m\n\u001b[1;32m----> 4\u001b[1;33m \u001b[1;32mimport\u001b[0m \u001b[0mkeyboard\u001b[0m\u001b[1;33m\u001b[0m\u001b[1;33m\u001b[0m\u001b[0m\n\u001b[0m\u001b[0;32m      5\u001b[0m \u001b[1;32mimport\u001b[0m \u001b[0msys\u001b[0m\u001b[1;33m\u001b[0m\u001b[1;33m\u001b[0m\u001b[0m\n\u001b[0;32m      6\u001b[0m \u001b[1;32mimport\u001b[0m \u001b[0mserial\u001b[0m\u001b[1;33m\u001b[0m\u001b[1;33m\u001b[0m\u001b[0m\n",
      "\u001b[1;31mModuleNotFoundError\u001b[0m: No module named 'keyboard'"
     ]
    }
   ],
   "source": [
    "import pandas as pd\n",
    "import matplotlib.pyplot as plt\n",
    "import os\n",
    "import keyboard\n",
    "import sys\n",
    "import serial\n",
    "import time\n",
    "\n",
    "import run_parallel\n",
    "from pump import *\n",
    "from run_parallel import describe_folders, press_ROIs, run_analysis"
   ]
  },
  {
   "cell_type": "markdown",
   "id": "a4a49ed3",
   "metadata": {},
   "source": [
    "## 0. Pump"
   ]
  },
  {
   "cell_type": "markdown",
   "id": "945e7fd0",
   "metadata": {},
   "source": [
    "To connect the pump to the computer (only done at the very beginning of times)."
   ]
  },
  {
   "cell_type": "code",
   "execution_count": 2,
   "id": "6065c2ec",
   "metadata": {},
   "outputs": [
    {
     "ename": "NameError",
     "evalue": "name 'serial' is not defined",
     "output_type": "error",
     "traceback": [
      "\u001b[1;31m---------------------------------------------------------------------------\u001b[0m",
      "\u001b[1;31mNameError\u001b[0m                                 Traceback (most recent call last)",
      "\u001b[1;32m~\\AppData\\Local\\Temp\\ipykernel_22588\\3683382477.py\u001b[0m in \u001b[0;36m<cell line: 2>\u001b[1;34m()\u001b[0m\n\u001b[0;32m      1\u001b[0m \u001b[1;31m# Open serial connection -> check COM port on your device\u001b[0m\u001b[1;33m\u001b[0m\u001b[1;33m\u001b[0m\u001b[1;33m\u001b[0m\u001b[0m\n\u001b[1;32m----> 2\u001b[1;33m \u001b[0mlsp\u001b[0m \u001b[1;33m=\u001b[0m \u001b[0mserial\u001b[0m\u001b[1;33m.\u001b[0m\u001b[0mSerial\u001b[0m\u001b[1;33m(\u001b[0m\u001b[1;34m'COM3'\u001b[0m\u001b[1;33m,\u001b[0m \u001b[1;36m9600\u001b[0m\u001b[1;33m,\u001b[0m \u001b[0mtimeout\u001b[0m\u001b[1;33m=\u001b[0m\u001b[1;36m1000\u001b[0m\u001b[1;33m)\u001b[0m  \u001b[1;31m# TODO: change the comport depending on your computer\u001b[0m\u001b[1;33m\u001b[0m\u001b[1;33m\u001b[0m\u001b[0m\n\u001b[0m\u001b[0;32m      3\u001b[0m \u001b[0mprint\u001b[0m\u001b[1;33m(\u001b[0m\u001b[1;34m'LSPone connected on '\u001b[0m\u001b[1;33m,\u001b[0m \u001b[0mlsp\u001b[0m\u001b[1;33m.\u001b[0m\u001b[0mname\u001b[0m\u001b[1;33m)\u001b[0m\u001b[1;33m\u001b[0m\u001b[1;33m\u001b[0m\u001b[0m\n\u001b[0;32m      4\u001b[0m \u001b[1;33m\u001b[0m\u001b[0m\n\u001b[0;32m      5\u001b[0m \u001b[1;31m# Initialise LSPone normally already done\u001b[0m\u001b[1;33m\u001b[0m\u001b[1;33m\u001b[0m\u001b[1;33m\u001b[0m\u001b[0m\n",
      "\u001b[1;31mNameError\u001b[0m: name 'serial' is not defined"
     ]
    }
   ],
   "source": [
    "# Open serial connection -> check COM port on your device\n",
    "lsp = serial.Serial('COM3', 9600, timeout=1000)  # TODO: change the comport depending on your computer\n",
    "print('LSPone connected on ', lsp.name)\n",
    "\n",
    "# Initialise LSPone normally already done\n",
    "initialise_LSPone(lsp)"
   ]
  },
  {
   "cell_type": "code",
   "execution_count": 3,
   "id": "77fb9d66",
   "metadata": {},
   "outputs": [
    {
     "ename": "NameError",
     "evalue": "name 'general_cleaning_procedure' is not defined",
     "output_type": "error",
     "traceback": [
      "\u001b[1;31m---------------------------------------------------------------------------\u001b[0m",
      "\u001b[1;31mNameError\u001b[0m                                 Traceback (most recent call last)",
      "\u001b[1;32m~\\AppData\\Local\\Temp\\ipykernel_22588\\3295165386.py\u001b[0m in \u001b[0;36m<cell line: 3>\u001b[1;34m()\u001b[0m\n\u001b[0;32m      1\u001b[0m \u001b[1;31m# 0. General Cleaning # this were i start\u001b[0m\u001b[1;33m\u001b[0m\u001b[1;33m\u001b[0m\u001b[1;33m\u001b[0m\u001b[0m\n\u001b[0;32m      2\u001b[0m \u001b[1;31m# 2: PBS, 3: Air, 4: Ethanol   (order of the tubes in the pump)\u001b[0m\u001b[1;33m\u001b[0m\u001b[1;33m\u001b[0m\u001b[1;33m\u001b[0m\u001b[0m\n\u001b[1;32m----> 3\u001b[1;33m \u001b[0mgeneral_cleaning_procedure\u001b[0m\u001b[1;33m(\u001b[0m\u001b[0mlsp\u001b[0m\u001b[1;33m)\u001b[0m\u001b[1;33m\u001b[0m\u001b[1;33m\u001b[0m\u001b[0m\n\u001b[0m",
      "\u001b[1;31mNameError\u001b[0m: name 'general_cleaning_procedure' is not defined"
     ]
    }
   ],
   "source": [
    "# 0. General Cleaning # this were i start\n",
    "# 2: PBS, 3: Air, 4: Ethanol   (order of the tubes in the pump)\n",
    "general_cleaning_procedure(lsp)"
   ]
  },
  {
   "cell_type": "markdown",
   "id": "ce01a32d",
   "metadata": {},
   "source": [
    "## Starting the measurements"
   ]
  },
  {
   "cell_type": "markdown",
   "id": "c20842b7",
   "metadata": {},
   "source": [
    "#### 1. Take a photo with SpinView of the spots -> save at `/focus`"
   ]
  },
  {
   "cell_type": "markdown",
   "id": "12403cda",
   "metadata": {},
   "source": [
    "#### 2. Create a folder named `/images/NEW_FOLDER_FOR_NEW_TEST` and set everything up in SpinView: photo each 2000ms for 240000ms"
   ]
  },
  {
   "cell_type": "markdown",
   "id": "aa190b22",
   "metadata": {},
   "source": [
    "#### 3. Aspire the Blocking Buffer"
   ]
  },
  {
   "cell_type": "code",
   "execution_count": 4,
   "id": "0196edc5",
   "metadata": {},
   "outputs": [],
   "source": [
    "# Sucking BB at 50 ul/min\n",
    "pick_BB(lsp)"
   ]
  },
  {
   "cell_type": "markdown",
   "id": "1a54563b",
   "metadata": {},
   "source": [
    "#### 4. Select ROI\n"
   ]
  },
  {
   "cell_type": "code",
   "execution_count": 5,
   "id": "7355d48a",
   "metadata": {},
   "outputs": [
    {
     "name": "stdout",
     "output_type": "stream",
     "text": [
      "THIS IS ORIGINAL FOLDER PATH C:\\Users\\Administrator\\Documents\\SENSUS\\CODE\\SensUs_2021_Code\n",
      "C:\\Users\\Administrator\\Documents\\SENSUS\\CODE\\SensUs_2021_Code\\focus\n",
      "['.gitkeep', '20210830_fake.tiff']\n",
      "ROI PATH C:\\Users\\Administrator\\Documents\\SENSUS\\CODE\\SensUs_2021_Code\\focus\\20210830_fake.tiff\n",
      "Select the ROI. Press right button if you want to delete. The last 2 ROIs will be used as background. Press 'q' when you have finished. \n",
      "ROIs:\n",
      " [[1972 2400  200]\n",
      " [2344 1776  200]\n",
      " [4152 2532  200]\n",
      " [3748  992  200]]\n"
     ]
    }
   ],
   "source": [
    "# Select ROI\n",
    "ORIGINAL_FOLDER, IMG_PROCESSED_FOLDER, IMG_FOLDER, DIR_ROI, DIR = describe_folders()\n",
    "ROIs = press_ROIs(DIR_ROI, ORIGINAL_FOLDER)"
   ]
  },
  {
   "cell_type": "markdown",
   "id": "cb8d9c79",
   "metadata": {},
   "source": [
    "#### 5. Flow the sample"
   ]
  },
  {
   "cell_type": "code",
   "execution_count": 7,
   "id": "6b4077e7",
   "metadata": {},
   "outputs": [],
   "source": [
    "# Push and pull sample at 50 ul/min\n",
    "push_pull_sample_n_times(lsp, n = 4)"
   ]
  },
  {
   "cell_type": "markdown",
   "id": "d87138d1",
   "metadata": {},
   "source": [
    "#### 6. Start running preprocess and analysis"
   ]
  },
  {
   "cell_type": "code",
   "execution_count": 8,
   "id": "b9143667",
   "metadata": {},
   "outputs": [
    {
     "name": "stdout",
     "output_type": "stream",
     "text": [
      "OBSERVED FOLDER C:\\Users\\Administrator\\Documents\\SENSUS\\CODE\\SensUs_2021_Code\\images\\20210830_fake\n",
      "Press ctrl+j or ctrl+c to exit and save the results\n",
      "filename C:\\Users\\Administrator\\Documents\\SENSUS\\CODE\\SensUs_2021_Code\\images\\20210830_fake\\yg2vayzp.s5d\n",
      "num events 0\n",
      "imgs (0,)\n",
      "filename C:\\Users\\Administrator\\Documents\\SENSUS\\CODE\\SensUs_2021_Code\\images\\20210830_fake\\20210830_fake-08302021212927-0.tiff\n",
      "num events 1\n",
      "imgs (1, 3648, 5472)\n",
      "filename C:\\Users\\Administrator\\Documents\\SENSUS\\CODE\\SensUs_2021_Code\\images\\20210830_fake\\20210830_fake-08302021212929-1.tiff\n",
      "num events 2\n",
      "imgs (2, 3648, 5472)\n",
      "filename C:\\Users\\Administrator\\Documents\\SENSUS\\CODE\\SensUs_2021_Code\\images\\20210830_fake\\20210830_fake-08302021212931-2.tiff\n",
      "num events 3\n",
      "imgs (3, 3648, 5472)\n",
      "filename C:\\Users\\Administrator\\Documents\\SENSUS\\CODE\\SensUs_2021_Code\\images\\20210830_fake\\o05rjpql.zy4\n",
      "num events 3\n",
      "imgs (3, 3648, 5472)\n",
      "filename C:\\Users\\Administrator\\Documents\\SENSUS\\CODE\\SensUs_2021_Code\\images\\20210830_fake\\20210830_fake-08302021212957-0.tiff\n",
      "num events 4\n",
      "imgs (4, 3648, 5472)\n",
      "filename C:\\Users\\Administrator\\Documents\\SENSUS\\CODE\\SensUs_2021_Code\\images\\20210830_fake\\20210830_fake-08302021213000-1.tiff\n",
      "num events 5\n",
      "\n",
      " Computing temporal median filter with kernel size  5 ...\n",
      "Averaged images shape:  (1, 3648, 5472)\n",
      "Correcting background illumination intensity...\n",
      "Corrected images shape:  (1, 3648, 5472)\n",
      "Inverting images...\n",
      "Inverted images shape:  (1, 3648, 5472)\n",
      "Binarizing images...\n",
      "Thresholded images shape:  (1, 3648, 5472)\n"
     ]
    },
    {
     "name": "stderr",
     "output_type": "stream",
     "text": [
      "C:\\Users\\Administrator\\Documents\\SENSUS\\CODE\\SensUs_2021_Code\\analysis\\Analyse_results_with_connected_components.py:73: FutureWarning: `draw.circle` is deprecated in favor of `draw.disk`.`draw.circle` will be removed in version 0.19\n",
      "  xvec, yvec = circle(cx, cy, rad)  #TODO: change to disk\n"
     ]
    },
    {
     "name": "stdout",
     "output_type": "stream",
     "text": [
      "Percentage of pixels detected in each ROI (0-1) [0.0006528194635734701, 0.016702624811916342, 0.010763559935991847, 0.011137736945601032]\n",
      "Percentage of pixels corresponding to Background (0-1) 0.01095064844079644\n",
      "Percentage of pixels corresponding to Foreground (0-1) 0.008677722137744906\n",
      "Percentage of pixels corresponding to Signal -0.0022729263030515333\n",
      "Length of results list 2\n",
      "filename C:\\Users\\Administrator\\Documents\\SENSUS\\CODE\\SensUs_2021_Code\\images\\20210830_fake\\20210830_fake-08302021213002-2.tiff\n",
      "num events 1\n",
      "imgs (1, 3648, 5472)\n",
      "filename C:\\Users\\Administrator\\Documents\\SENSUS\\CODE\\SensUs_2021_Code\\images\\20210830_fake\\20210830_fake-08302021213004-3.tiff\n",
      "num events 2\n",
      "imgs (2, 3648, 5472)\n",
      "filename C:\\Users\\Administrator\\Documents\\SENSUS\\CODE\\SensUs_2021_Code\\images\\20210830_fake\\20210830_fake-08302021213006-4.tiff\n",
      "num events 3\n",
      "imgs (3, 3648, 5472)\n",
      "filename C:\\Users\\Administrator\\Documents\\SENSUS\\CODE\\SensUs_2021_Code\\images\\20210830_fake\\20210830_fake-08302021213008-5.tiff\n",
      "num events 4\n",
      "imgs (4, 3648, 5472)\n",
      "filename C:\\Users\\Administrator\\Documents\\SENSUS\\CODE\\SensUs_2021_Code\\images\\20210830_fake\\2ohufpld.f3r\n",
      "num events 4\n",
      "imgs (4, 3648, 5472)\n",
      "filename C:\\Users\\Administrator\\Documents\\SENSUS\\CODE\\SensUs_2021_Code\\images\\20210830_fake\\20210830_fake-08302021213104-0.tiff\n",
      "num events 5\n",
      "\n",
      " Computing temporal median filter with kernel size  5 ...\n",
      "Averaged images shape:  (1, 3648, 5472)\n",
      "Correcting background illumination intensity...\n",
      "Corrected images shape:  (1, 3648, 5472)\n",
      "Inverting images...\n",
      "Inverted images shape:  (1, 3648, 5472)\n",
      "Binarizing images...\n",
      "Thresholded images shape:  (1, 3648, 5472)\n",
      "Percentage of pixels detected in each ROI (0-1) [7.961212970408171e-05, 0.021622654427628594, 0.01619310718181022, 0.00492002961571225]\n",
      "Percentage of pixels corresponding to Background (0-1) 0.010556568398761235\n",
      "Percentage of pixels corresponding to Foreground (0-1) 0.010851133278666337\n",
      "Percentage of pixels corresponding to Signal 0.00029456487990510254\n",
      "Length of results list 3\n",
      "filename C:\\Users\\Administrator\\Documents\\SENSUS\\CODE\\SensUs_2021_Code\\images\\20210830_fake\\20210830_fake-08302021213106-1.tiff\n",
      "num events 1\n",
      "imgs (1, 3648, 5472)\n",
      "filename C:\\Users\\Administrator\\Documents\\SENSUS\\CODE\\SensUs_2021_Code\\images\\20210830_fake\\20210830_fake-08302021213108-2.tiff\n",
      "num events 2\n",
      "imgs (2, 3648, 5472)\n",
      "filename C:\\Users\\Administrator\\Documents\\SENSUS\\CODE\\SensUs_2021_Code\\images\\20210830_fake\\20210830_fake-08302021213111-3.tiff\n",
      "num events 3\n",
      "imgs (3, 3648, 5472)\n",
      "filename C:\\Users\\Administrator\\Documents\\SENSUS\\CODE\\SensUs_2021_Code\\images\\20210830_fake\\20210830_fake-08302021213113-4.tiff\n",
      "num events 4\n",
      "imgs (4, 3648, 5472)\n",
      "filename C:\\Users\\Administrator\\Documents\\SENSUS\\CODE\\SensUs_2021_Code\\images\\20210830_fake\\20210830_fake-08302021213115-5.tiff\n",
      "num events 5\n",
      "\n",
      " Computing temporal median filter with kernel size  5 ...\n",
      "Averaged images shape:  (1, 3648, 5472)\n",
      "Correcting background illumination intensity...\n",
      "Corrected images shape:  (1, 3648, 5472)\n",
      "Inverting images...\n",
      "Inverted images shape:  (1, 3648, 5472)\n",
      "Binarizing images...\n",
      "Thresholded images shape:  (1, 3648, 5472)\n",
      "Percentage of pixels detected in each ROI (0-1) [0.00017514668534897976, 0.020444394908008184, 0.0007722376581295927, 0.007324315932775518]\n",
      "Percentage of pixels corresponding to Background (0-1) 0.004048276795452555\n",
      "Percentage of pixels corresponding to Foreground (0-1) 0.010309770796678582\n",
      "Percentage of pixels corresponding to Signal 0.0062614940012260265\n",
      "Length of results list 4\n",
      "filename C:\\Users\\Administrator\\Documents\\SENSUS\\CODE\\SensUs_2021_Code\\images\\20210830_fake\\20210830_fake-08302021213117-6.tiff\n",
      "num events 1\n",
      "imgs (1, 3648, 5472)\n",
      "filename C:\\Users\\Administrator\\Documents\\SENSUS\\CODE\\SensUs_2021_Code\\images\\20210830_fake\\20210830_fake-08302021213119-7.tiff\n",
      "num events 2\n",
      "imgs (2, 3648, 5472)\n",
      "filename C:\\Users\\Administrator\\Documents\\SENSUS\\CODE\\SensUs_2021_Code\\images\\20210830_fake\\20210830_fake-08302021213121-8.tiff\n",
      "num events 3\n",
      "imgs (3, 3648, 5472)\n",
      "filename C:\\Users\\Administrator\\Documents\\SENSUS\\CODE\\SensUs_2021_Code\\images\\20210830_fake\\20210830_fake-08302021213123-9.tiff\n",
      "num events 4\n",
      "imgs (4, 3648, 5472)\n",
      "filename C:\\Users\\Administrator\\Documents\\SENSUS\\CODE\\SensUs_2021_Code\\images\\20210830_fake\\20210830_fake-08302021213125-10.tiff\n",
      "num events 5\n",
      "\n",
      " Computing temporal median filter with kernel size  5 ...\n",
      "Averaged images shape:  (1, 3648, 5472)\n",
      "Correcting background illumination intensity...\n",
      "Corrected images shape:  (1, 3648, 5472)\n",
      "Inverting images...\n",
      "Inverted images shape:  (1, 3648, 5472)\n",
      "Binarizing images...\n",
      "Thresholded images shape:  (1, 3648, 5472)\n",
      "Percentage of pixels detected in each ROI (0-1) [9.553455564489805e-05, 0.01994283849087247, 0.0007244703803071436, 0.006591884339497966]\n",
      "Percentage of pixels corresponding to Background (0-1) 0.003658177359902555\n",
      "Percentage of pixels corresponding to Foreground (0-1) 0.010019186523258684\n",
      "Percentage of pixels corresponding to Signal 0.006361009163356129\n",
      "Length of results list 5\n",
      "filename C:\\Users\\Administrator\\Documents\\SENSUS\\CODE\\SensUs_2021_Code\\images\\20210830_fake\\20210830_fake-08302021213127-11.tiff\n",
      "num events 1\n",
      "imgs (1, 3648, 5472)\n",
      "filename C:\\Users\\Administrator\\Documents\\SENSUS\\CODE\\SensUs_2021_Code\\images\\20210830_fake\\20210830_fake-08302021213129-12.tiff\n",
      "num events 2\n",
      "imgs (2, 3648, 5472)\n",
      "filename C:\\Users\\Administrator\\Documents\\SENSUS\\CODE\\SensUs_2021_Code\\images\\20210830_fake\\20210830_fake-08302021213131-13.tiff\n",
      "num events 3\n",
      "imgs (3, 3648, 5472)\n",
      "filename C:\\Users\\Administrator\\Documents\\SENSUS\\CODE\\SensUs_2021_Code\\images\\20210830_fake\\20210830_fake-08302021213133-14.tiff\n",
      "num events 4\n",
      "imgs (4, 3648, 5472)\n",
      "filename C:\\Users\\Administrator\\Documents\\SENSUS\\CODE\\SensUs_2021_Code\\images\\20210830_fake\\20210830_fake-08302021213135-15.tiff\n",
      "num events 5\n",
      "\n",
      " Computing temporal median filter with kernel size  5 ...\n",
      "Averaged images shape:  (1, 3648, 5472)\n",
      "Correcting background illumination intensity...\n",
      "Corrected images shape:  (1, 3648, 5472)\n",
      "Inverting images...\n",
      "Inverted images shape:  (1, 3648, 5472)\n",
      "Binarizing images...\n",
      "Thresholded images shape:  (1, 3648, 5472)\n",
      "Percentage of pixels detected in each ROI (0-1) [0.05312517415153373, 0.029440565564569417, 0.016790198154590832, 0.014115230596533688]\n",
      "Percentage of pixels corresponding to Background (0-1) 0.015452714375562261\n",
      "Percentage of pixels corresponding to Foreground (0-1) 0.041282869858051574\n",
      "Percentage of pixels corresponding to Signal 0.025830155482489313\n",
      "Length of results list 6\n",
      "filename C:\\Users\\Administrator\\Documents\\SENSUS\\CODE\\SensUs_2021_Code\\images\\20210830_fake\\20210830_fake-08302021213137-16.tiff\n",
      "num events 1\n",
      "imgs (1, 3648, 5472)\n",
      "filename C:\\Users\\Administrator\\Documents\\SENSUS\\CODE\\SensUs_2021_Code\\images\\20210830_fake\\20210830_fake-08302021213139-17.tiff\n",
      "num events 2\n",
      "imgs (2, 3648, 5472)\n",
      "filename C:\\Users\\Administrator\\Documents\\SENSUS\\CODE\\SensUs_2021_Code\\images\\20210830_fake\\20210830_fake-08302021213141-18.tiff\n",
      "num events 3\n",
      "imgs (3, 3648, 5472)\n",
      "filename C:\\Users\\Administrator\\Documents\\SENSUS\\CODE\\SensUs_2021_Code\\images\\20210830_fake\\20210830_fake-08302021213143-19.tiff\n",
      "num events 4\n",
      "imgs (4, 3648, 5472)\n",
      "filename C:\\Users\\Administrator\\Documents\\SENSUS\\CODE\\SensUs_2021_Code\\images\\20210830_fake\\20210830_fake-08302021213145-20.tiff\n",
      "num events 5\n",
      "\n",
      " Computing temporal median filter with kernel size  5 ...\n",
      "Averaged images shape:  (1, 3648, 5472)\n",
      "Correcting background illumination intensity...\n",
      "Corrected images shape:  (1, 3648, 5472)\n",
      "Inverting images...\n",
      "Inverted images shape:  (1, 3648, 5472)\n",
      "Binarizing images...\n",
      "Thresholded images shape:  (1, 3648, 5472)\n",
      "Percentage of pixels detected in each ROI (0-1) [0.048969420980980664, 0.028325995748712272, 0.015301451329124506, 0.01201347037234593]\n",
      "Percentage of pixels corresponding to Background (0-1) 0.013657460850735218\n",
      "Percentage of pixels corresponding to Foreground (0-1) 0.03864770836484647\n",
      "Percentage of pixels corresponding to Signal 0.02499024751411125\n",
      "Length of results list 7\n",
      "filename C:\\Users\\Administrator\\Documents\\SENSUS\\CODE\\SensUs_2021_Code\\images\\20210830_fake\\20210830_fake-08302021213147-21.tiff\n",
      "num events 1\n",
      "imgs (1, 3648, 5472)\n",
      "filename C:\\Users\\Administrator\\Documents\\SENSUS\\CODE\\SensUs_2021_Code\\images\\20210830_fake\\20210830_fake-08302021213149-22.tiff\n"
     ]
    },
    {
     "name": "stdout",
     "output_type": "stream",
     "text": [
      "num events 2\n",
      "imgs (2, 3648, 5472)\n",
      "filename C:\\Users\\Administrator\\Documents\\SENSUS\\CODE\\SensUs_2021_Code\\images\\20210830_fake\\20210830_fake-08302021213151-23.tiff\n",
      "num events 3\n",
      "imgs (3, 3648, 5472)\n",
      "filename C:\\Users\\Administrator\\Documents\\SENSUS\\CODE\\SensUs_2021_Code\\images\\20210830_fake\\20210830_fake-08302021213153-24.tiff\n",
      "num events 4\n",
      "imgs (4, 3648, 5472)\n",
      "filename C:\\Users\\Administrator\\Documents\\SENSUS\\CODE\\SensUs_2021_Code\\images\\20210830_fake\\20210830_fake-08302021213156-25.tiff\n",
      "num events 5\n",
      "\n",
      " Computing temporal median filter with kernel size  5 ...\n",
      "Averaged images shape:  (1, 3648, 5472)\n",
      "Correcting background illumination intensity...\n",
      "Corrected images shape:  (1, 3648, 5472)\n",
      "Inverting images...\n",
      "Inverted images shape:  (1, 3648, 5472)\n",
      "Binarizing images...\n",
      "Thresholded images shape:  (1, 3648, 5472)\n",
      "Percentage of pixels detected in each ROI (0-1) [0.04655717345094699, 0.030857661473302073, 0.014688437930403076, 0.01288920379909083]\n",
      "Percentage of pixels corresponding to Background (0-1) 0.013788820864746953\n",
      "Percentage of pixels corresponding to Foreground (0-1) 0.03870741746212453\n",
      "Percentage of pixels corresponding to Signal 0.024918596597377572\n",
      "Length of results list 8\n",
      "filename C:\\Users\\Administrator\\Documents\\SENSUS\\CODE\\SensUs_2021_Code\\images\\20210830_fake\\20210830_fake-08302021213158-26.tiff\n",
      "num events 1\n",
      "imgs (1, 3648, 5472)\n"
     ]
    },
    {
     "name": "stderr",
     "output_type": "stream",
     "text": [
      "ERROR:root:Internal Python error in the inspect module.\n",
      "Below is the traceback from this internal error.\n",
      "\n"
     ]
    },
    {
     "name": "stdout",
     "output_type": "stream",
     "text": [
      "You Pressed a Key!\n",
      "Last results list (you pressed \"ctrl+j\") [[], [-0.0022729263030515333, 0.008677722137744906, 0.01095064844079644], [0.00029456487990510254, 0.010851133278666337, 0.010556568398761235], [0.0062614940012260265, 0.010309770796678582, 0.004048276795452555], [0.006361009163356129, 0.010019186523258684, 0.003658177359902555], [0.025830155482489313, 0.041282869858051574, 0.015452714375562261], [0.02499024751411125, 0.03864770836484647, 0.013657460850735218], [0.024918596597377572, 0.03870741746212453, 0.013788820864746953]]\n",
      "y [-0.0022729263030515333, 0.00029456487990510254, 0.0062614940012260265, 0.006361009163356129, 0.025830155482489313, 0.02499024751411125, 0.024918596597377572]\n",
      "x [ 0 10 20 30 40 50 60]\n",
      "reg_lin [ 0.00053762 -0.00378826]\n",
      "slope 0.0005376235551820102\n",
      "concentration 8.278807346542829\n",
      "Saving results as result.csv\n",
      "Last results list [[], [-0.0022729263030515333, 0.008677722137744906, 0.01095064844079644], [0.00029456487990510254, 0.010851133278666337, 0.010556568398761235], [0.0062614940012260265, 0.010309770796678582, 0.004048276795452555], [0.006361009163356129, 0.010019186523258684, 0.003658177359902555], [0.025830155482489313, 0.041282869858051574, 0.015452714375562261], [0.02499024751411125, 0.03864770836484647, 0.013657460850735218], [0.024918596597377572, 0.03870741746212453, 0.013788820864746953]]\n",
      "y [-0.0022729263030515333, 0.00029456487990510254, 0.0062614940012260265, 0.006361009163356129, 0.025830155482489313, 0.02499024751411125, 0.024918596597377572]\n",
      "x [ 0 10 20 30 40 50 60]\n",
      "reg_lin [ 0.00053762 -0.00378826]\n",
      "slope 0.0005376235551820102\n",
      "concentration 8.278807346542829\n",
      "Traceback (most recent call last):\n",
      "  File \"C:\\Users\\Administrator\\Documents\\SENSUS\\CODE\\SensUs_2021_Code\\run_parallel.py\", line 130, in run_analysis\n",
      "    sys.exit()\n",
      "SystemExit\n",
      "\n",
      "During handling of the above exception, another exception occurred:\n",
      "\n",
      "Traceback (most recent call last):\n",
      "  File \"C:\\Users\\Administrator\\anaconda3\\lib\\site-packages\\IPython\\core\\interactiveshell.py\", line 3437, in run_code\n",
      "    exec(code_obj, self.user_global_ns, self.user_ns)\n",
      "  File \"<ipython-input-8-7b9e99f04b45>\", line 2, in <module>\n",
      "    run_analysis(ROIs, IMG_FOLDER=IMG_FOLDER, DIR=DIR, window_size=5, framerate=2, threshold=140)\n",
      "  File \"C:\\Users\\Administrator\\Documents\\SENSUS\\CODE\\SensUs_2021_Code\\run_parallel.py\", line 143, in run_analysis\n",
      "    sys.exit()\n",
      "SystemExit\n",
      "\n",
      "During handling of the above exception, another exception occurred:\n",
      "\n",
      "Traceback (most recent call last):\n",
      "  File \"C:\\Users\\Administrator\\anaconda3\\lib\\site-packages\\IPython\\core\\ultratb.py\", line 1101, in get_records\n",
      "    return _fixed_getinnerframes(etb, number_of_lines_of_context, tb_offset)\n",
      "  File \"C:\\Users\\Administrator\\anaconda3\\lib\\site-packages\\IPython\\core\\ultratb.py\", line 248, in wrapped\n",
      "    return f(*args, **kwargs)\n",
      "  File \"C:\\Users\\Administrator\\anaconda3\\lib\\site-packages\\IPython\\core\\ultratb.py\", line 281, in _fixed_getinnerframes\n",
      "    records = fix_frame_records_filenames(inspect.getinnerframes(etb, context))\n",
      "  File \"C:\\Users\\Administrator\\anaconda3\\lib\\inspect.py\", line 1515, in getinnerframes\n",
      "    frameinfo = (tb.tb_frame,) + getframeinfo(tb, context)\n",
      "AttributeError: 'tuple' object has no attribute 'tb_frame'\n"
     ]
    },
    {
     "ename": "TypeError",
     "evalue": "object of type 'NoneType' has no len()",
     "output_type": "error",
     "traceback": [
      "\u001b[1;31m---------------------------------------------------------------------------\u001b[0m",
      "\u001b[1;31mSystemExit\u001b[0m                                Traceback (most recent call last)",
      "\u001b[1;32m~\\Documents\\SENSUS\\CODE\\SensUs_2021_Code\\run_parallel.py\u001b[0m in \u001b[0;36mrun_analysis\u001b[1;34m(ROIs, IMG_FOLDER, DIR, window_size, framerate, threshold)\u001b[0m\n\u001b[0;32m    129\u001b[0m                 \u001b[1;31m#quit()\u001b[0m\u001b[1;33m\u001b[0m\u001b[1;33m\u001b[0m\u001b[1;33m\u001b[0m\u001b[0m\n\u001b[1;32m--> 130\u001b[1;33m                 \u001b[0msys\u001b[0m\u001b[1;33m.\u001b[0m\u001b[0mexit\u001b[0m\u001b[1;33m(\u001b[0m\u001b[1;33m)\u001b[0m\u001b[1;33m\u001b[0m\u001b[1;33m\u001b[0m\u001b[0m\n\u001b[0m\u001b[0;32m    131\u001b[0m \u001b[1;33m\u001b[0m\u001b[0m\n",
      "\u001b[1;31mSystemExit\u001b[0m: ",
      "\nDuring handling of the above exception, another exception occurred:\n",
      "\u001b[1;31mSystemExit\u001b[0m                                Traceback (most recent call last)",
      "    \u001b[1;31m[... skipping hidden 1 frame]\u001b[0m\n",
      "\u001b[1;32m<ipython-input-8-7b9e99f04b45>\u001b[0m in \u001b[0;36m<module>\u001b[1;34m\u001b[0m\n\u001b[0;32m      1\u001b[0m \u001b[1;31m# Run processing and analysis\u001b[0m\u001b[1;33m\u001b[0m\u001b[1;33m\u001b[0m\u001b[1;33m\u001b[0m\u001b[0m\n\u001b[1;32m----> 2\u001b[1;33m \u001b[0mrun_analysis\u001b[0m\u001b[1;33m(\u001b[0m\u001b[0mROIs\u001b[0m\u001b[1;33m,\u001b[0m \u001b[0mIMG_FOLDER\u001b[0m\u001b[1;33m=\u001b[0m\u001b[0mIMG_FOLDER\u001b[0m\u001b[1;33m,\u001b[0m \u001b[0mDIR\u001b[0m\u001b[1;33m=\u001b[0m\u001b[0mDIR\u001b[0m\u001b[1;33m,\u001b[0m \u001b[0mwindow_size\u001b[0m\u001b[1;33m=\u001b[0m\u001b[1;36m5\u001b[0m\u001b[1;33m,\u001b[0m \u001b[0mframerate\u001b[0m\u001b[1;33m=\u001b[0m\u001b[1;36m2\u001b[0m\u001b[1;33m,\u001b[0m \u001b[0mthreshold\u001b[0m\u001b[1;33m=\u001b[0m\u001b[1;36m140\u001b[0m\u001b[1;33m)\u001b[0m\u001b[1;33m\u001b[0m\u001b[1;33m\u001b[0m\u001b[0m\n\u001b[0m",
      "\u001b[1;32m~\\Documents\\SENSUS\\CODE\\SensUs_2021_Code\\run_parallel.py\u001b[0m in \u001b[0;36mrun_analysis\u001b[1;34m(ROIs, IMG_FOLDER, DIR, window_size, framerate, threshold)\u001b[0m\n\u001b[0;32m    142\u001b[0m         \u001b[1;31m#quit()\u001b[0m\u001b[1;33m\u001b[0m\u001b[1;33m\u001b[0m\u001b[1;33m\u001b[0m\u001b[0m\n\u001b[1;32m--> 143\u001b[1;33m         \u001b[0msys\u001b[0m\u001b[1;33m.\u001b[0m\u001b[0mexit\u001b[0m\u001b[1;33m(\u001b[0m\u001b[1;33m)\u001b[0m\u001b[1;33m\u001b[0m\u001b[1;33m\u001b[0m\u001b[0m\n\u001b[0m\u001b[0;32m    144\u001b[0m     \u001b[0mobserver\u001b[0m\u001b[1;33m.\u001b[0m\u001b[0mjoin\u001b[0m\u001b[1;33m(\u001b[0m\u001b[1;33m)\u001b[0m \u001b[1;31m# is needed to proper end a thread for \"it blocks the thread in which you're making the call, until (self.observer) is finished\u001b[0m\u001b[1;33m\u001b[0m\u001b[1;33m\u001b[0m\u001b[0m\n",
      "\u001b[1;31mSystemExit\u001b[0m: ",
      "\nDuring handling of the above exception, another exception occurred:\n",
      "\u001b[1;31mTypeError\u001b[0m                                 Traceback (most recent call last)",
      "    \u001b[1;31m[... skipping hidden 1 frame]\u001b[0m\n",
      "\u001b[1;32m~\\anaconda3\\lib\\site-packages\\IPython\\core\\interactiveshell.py\u001b[0m in \u001b[0;36mshowtraceback\u001b[1;34m(self, exc_tuple, filename, tb_offset, exception_only, running_compiled_code)\u001b[0m\n\u001b[0;32m   2052\u001b[0m                     stb = ['An exception has occurred, use %tb to see '\n\u001b[0;32m   2053\u001b[0m                            'the full traceback.\\n']\n\u001b[1;32m-> 2054\u001b[1;33m                     stb.extend(self.InteractiveTB.get_exception_only(etype,\n\u001b[0m\u001b[0;32m   2055\u001b[0m                                                                      value))\n\u001b[0;32m   2056\u001b[0m                 \u001b[1;32melse\u001b[0m\u001b[1;33m:\u001b[0m\u001b[1;33m\u001b[0m\u001b[1;33m\u001b[0m\u001b[0m\n",
      "\u001b[1;32m~\\anaconda3\\lib\\site-packages\\IPython\\core\\ultratb.py\u001b[0m in \u001b[0;36mget_exception_only\u001b[1;34m(self, etype, value)\u001b[0m\n\u001b[0;32m    752\u001b[0m         \u001b[0mvalue\u001b[0m \u001b[1;33m:\u001b[0m \u001b[0mexception\u001b[0m \u001b[0mvalue\u001b[0m\u001b[1;33m\u001b[0m\u001b[1;33m\u001b[0m\u001b[0m\n\u001b[0;32m    753\u001b[0m         \"\"\"\n\u001b[1;32m--> 754\u001b[1;33m         \u001b[1;32mreturn\u001b[0m \u001b[0mListTB\u001b[0m\u001b[1;33m.\u001b[0m\u001b[0mstructured_traceback\u001b[0m\u001b[1;33m(\u001b[0m\u001b[0mself\u001b[0m\u001b[1;33m,\u001b[0m \u001b[0metype\u001b[0m\u001b[1;33m,\u001b[0m \u001b[0mvalue\u001b[0m\u001b[1;33m)\u001b[0m\u001b[1;33m\u001b[0m\u001b[1;33m\u001b[0m\u001b[0m\n\u001b[0m\u001b[0;32m    755\u001b[0m \u001b[1;33m\u001b[0m\u001b[0m\n\u001b[0;32m    756\u001b[0m     \u001b[1;32mdef\u001b[0m \u001b[0mshow_exception_only\u001b[0m\u001b[1;33m(\u001b[0m\u001b[0mself\u001b[0m\u001b[1;33m,\u001b[0m \u001b[0metype\u001b[0m\u001b[1;33m,\u001b[0m \u001b[0mevalue\u001b[0m\u001b[1;33m)\u001b[0m\u001b[1;33m:\u001b[0m\u001b[1;33m\u001b[0m\u001b[1;33m\u001b[0m\u001b[0m\n",
      "\u001b[1;32m~\\anaconda3\\lib\\site-packages\\IPython\\core\\ultratb.py\u001b[0m in \u001b[0;36mstructured_traceback\u001b[1;34m(self, etype, evalue, etb, tb_offset, context)\u001b[0m\n\u001b[0;32m    627\u001b[0m             \u001b[0mchained_exceptions_tb_offset\u001b[0m \u001b[1;33m=\u001b[0m \u001b[1;36m0\u001b[0m\u001b[1;33m\u001b[0m\u001b[1;33m\u001b[0m\u001b[0m\n\u001b[0;32m    628\u001b[0m             out_list = (\n\u001b[1;32m--> 629\u001b[1;33m                 self.structured_traceback(\n\u001b[0m\u001b[0;32m    630\u001b[0m                     \u001b[0metype\u001b[0m\u001b[1;33m,\u001b[0m \u001b[0mevalue\u001b[0m\u001b[1;33m,\u001b[0m \u001b[1;33m(\u001b[0m\u001b[0metb\u001b[0m\u001b[1;33m,\u001b[0m \u001b[0mchained_exc_ids\u001b[0m\u001b[1;33m)\u001b[0m\u001b[1;33m,\u001b[0m\u001b[1;33m\u001b[0m\u001b[1;33m\u001b[0m\u001b[0m\n\u001b[0;32m    631\u001b[0m                     chained_exceptions_tb_offset, context)\n",
      "\u001b[1;32m~\\anaconda3\\lib\\site-packages\\IPython\\core\\ultratb.py\u001b[0m in \u001b[0;36mstructured_traceback\u001b[1;34m(self, etype, value, tb, tb_offset, number_of_lines_of_context)\u001b[0m\n\u001b[0;32m   1365\u001b[0m         \u001b[1;32melse\u001b[0m\u001b[1;33m:\u001b[0m\u001b[1;33m\u001b[0m\u001b[1;33m\u001b[0m\u001b[0m\n\u001b[0;32m   1366\u001b[0m             \u001b[0mself\u001b[0m\u001b[1;33m.\u001b[0m\u001b[0mtb\u001b[0m \u001b[1;33m=\u001b[0m \u001b[0mtb\u001b[0m\u001b[1;33m\u001b[0m\u001b[1;33m\u001b[0m\u001b[0m\n\u001b[1;32m-> 1367\u001b[1;33m         return FormattedTB.structured_traceback(\n\u001b[0m\u001b[0;32m   1368\u001b[0m             self, etype, value, tb, tb_offset, number_of_lines_of_context)\n\u001b[0;32m   1369\u001b[0m \u001b[1;33m\u001b[0m\u001b[0m\n",
      "\u001b[1;32m~\\anaconda3\\lib\\site-packages\\IPython\\core\\ultratb.py\u001b[0m in \u001b[0;36mstructured_traceback\u001b[1;34m(self, etype, value, tb, tb_offset, number_of_lines_of_context)\u001b[0m\n\u001b[0;32m   1265\u001b[0m         \u001b[1;32mif\u001b[0m \u001b[0mmode\u001b[0m \u001b[1;32min\u001b[0m \u001b[0mself\u001b[0m\u001b[1;33m.\u001b[0m\u001b[0mverbose_modes\u001b[0m\u001b[1;33m:\u001b[0m\u001b[1;33m\u001b[0m\u001b[1;33m\u001b[0m\u001b[0m\n\u001b[0;32m   1266\u001b[0m             \u001b[1;31m# Verbose modes need a full traceback\u001b[0m\u001b[1;33m\u001b[0m\u001b[1;33m\u001b[0m\u001b[1;33m\u001b[0m\u001b[0m\n\u001b[1;32m-> 1267\u001b[1;33m             return VerboseTB.structured_traceback(\n\u001b[0m\u001b[0;32m   1268\u001b[0m                 \u001b[0mself\u001b[0m\u001b[1;33m,\u001b[0m \u001b[0metype\u001b[0m\u001b[1;33m,\u001b[0m \u001b[0mvalue\u001b[0m\u001b[1;33m,\u001b[0m \u001b[0mtb\u001b[0m\u001b[1;33m,\u001b[0m \u001b[0mtb_offset\u001b[0m\u001b[1;33m,\u001b[0m \u001b[0mnumber_of_lines_of_context\u001b[0m\u001b[1;33m\u001b[0m\u001b[1;33m\u001b[0m\u001b[0m\n\u001b[0;32m   1269\u001b[0m             )\n",
      "\u001b[1;32m~\\anaconda3\\lib\\site-packages\\IPython\\core\\ultratb.py\u001b[0m in \u001b[0;36mstructured_traceback\u001b[1;34m(self, etype, evalue, etb, tb_offset, number_of_lines_of_context)\u001b[0m\n\u001b[0;32m   1122\u001b[0m         \u001b[1;34m\"\"\"Return a nice text document describing the traceback.\"\"\"\u001b[0m\u001b[1;33m\u001b[0m\u001b[1;33m\u001b[0m\u001b[0m\n\u001b[0;32m   1123\u001b[0m \u001b[1;33m\u001b[0m\u001b[0m\n\u001b[1;32m-> 1124\u001b[1;33m         formatted_exception = self.format_exception_as_a_whole(etype, evalue, etb, number_of_lines_of_context,\n\u001b[0m\u001b[0;32m   1125\u001b[0m                                                                tb_offset)\n\u001b[0;32m   1126\u001b[0m \u001b[1;33m\u001b[0m\u001b[0m\n",
      "\u001b[1;32m~\\anaconda3\\lib\\site-packages\\IPython\\core\\ultratb.py\u001b[0m in \u001b[0;36mformat_exception_as_a_whole\u001b[1;34m(self, etype, evalue, etb, number_of_lines_of_context, tb_offset)\u001b[0m\n\u001b[0;32m   1080\u001b[0m \u001b[1;33m\u001b[0m\u001b[0m\n\u001b[0;32m   1081\u001b[0m \u001b[1;33m\u001b[0m\u001b[0m\n\u001b[1;32m-> 1082\u001b[1;33m         \u001b[0mlast_unique\u001b[0m\u001b[1;33m,\u001b[0m \u001b[0mrecursion_repeat\u001b[0m \u001b[1;33m=\u001b[0m \u001b[0mfind_recursion\u001b[0m\u001b[1;33m(\u001b[0m\u001b[0morig_etype\u001b[0m\u001b[1;33m,\u001b[0m \u001b[0mevalue\u001b[0m\u001b[1;33m,\u001b[0m \u001b[0mrecords\u001b[0m\u001b[1;33m)\u001b[0m\u001b[1;33m\u001b[0m\u001b[1;33m\u001b[0m\u001b[0m\n\u001b[0m\u001b[0;32m   1083\u001b[0m \u001b[1;33m\u001b[0m\u001b[0m\n\u001b[0;32m   1084\u001b[0m         \u001b[0mframes\u001b[0m \u001b[1;33m=\u001b[0m \u001b[0mself\u001b[0m\u001b[1;33m.\u001b[0m\u001b[0mformat_records\u001b[0m\u001b[1;33m(\u001b[0m\u001b[0mrecords\u001b[0m\u001b[1;33m,\u001b[0m \u001b[0mlast_unique\u001b[0m\u001b[1;33m,\u001b[0m \u001b[0mrecursion_repeat\u001b[0m\u001b[1;33m)\u001b[0m\u001b[1;33m\u001b[0m\u001b[1;33m\u001b[0m\u001b[0m\n",
      "\u001b[1;32m~\\anaconda3\\lib\\site-packages\\IPython\\core\\ultratb.py\u001b[0m in \u001b[0;36mfind_recursion\u001b[1;34m(etype, value, records)\u001b[0m\n\u001b[0;32m    380\u001b[0m     \u001b[1;31m# first frame (from in to out) that looks different.\u001b[0m\u001b[1;33m\u001b[0m\u001b[1;33m\u001b[0m\u001b[1;33m\u001b[0m\u001b[0m\n\u001b[0;32m    381\u001b[0m     \u001b[1;32mif\u001b[0m \u001b[1;32mnot\u001b[0m \u001b[0mis_recursion_error\u001b[0m\u001b[1;33m(\u001b[0m\u001b[0metype\u001b[0m\u001b[1;33m,\u001b[0m \u001b[0mvalue\u001b[0m\u001b[1;33m,\u001b[0m \u001b[0mrecords\u001b[0m\u001b[1;33m)\u001b[0m\u001b[1;33m:\u001b[0m\u001b[1;33m\u001b[0m\u001b[1;33m\u001b[0m\u001b[0m\n\u001b[1;32m--> 382\u001b[1;33m         \u001b[1;32mreturn\u001b[0m \u001b[0mlen\u001b[0m\u001b[1;33m(\u001b[0m\u001b[0mrecords\u001b[0m\u001b[1;33m)\u001b[0m\u001b[1;33m,\u001b[0m \u001b[1;36m0\u001b[0m\u001b[1;33m\u001b[0m\u001b[1;33m\u001b[0m\u001b[0m\n\u001b[0m\u001b[0;32m    383\u001b[0m \u001b[1;33m\u001b[0m\u001b[0m\n\u001b[0;32m    384\u001b[0m     \u001b[1;31m# Select filename, lineno, func_name to track frames with\u001b[0m\u001b[1;33m\u001b[0m\u001b[1;33m\u001b[0m\u001b[1;33m\u001b[0m\u001b[0m\n",
      "\u001b[1;31mTypeError\u001b[0m: object of type 'NoneType' has no len()"
     ]
    }
   ],
   "source": [
    "# Run processing and analysis\n",
    "run_analysis(ROIs, IMG_FOLDER=IMG_FOLDER, DIR=DIR, window_size=5, framerate=2, threshold=140)"
   ]
  },
  {
   "cell_type": "markdown",
   "id": "5326fbdc",
   "metadata": {},
   "source": [
    "#### 7. SpinView start recording -> save at `/images/NEW_FOLDER_FOR_NEW_TEST` as soon as you see liquid"
   ]
  },
  {
   "cell_type": "markdown",
   "id": "7c36751d",
   "metadata": {},
   "source": [
    "#### 8. View results (change name)"
   ]
  },
  {
   "cell_type": "code",
   "execution_count": 10,
   "id": "dd2616b2",
   "metadata": {},
   "outputs": [
    {
     "data": {
      "text/plain": [
       "<AxesSubplot:>"
      ]
     },
     "execution_count": 10,
     "metadata": {},
     "output_type": "execute_result"
    },
    {
     "data": {
      "image/png": "[encoded data removed]",
      "text/plain": [
       "<Figure size 432x288 with 1 Axes>"
      ]
     },
     "metadata": {
      "needs_background": "light"
     },
     "output_type": "display_data"
    }
   ],
   "source": [
    "# Loading results\n",
    "result_df = pd.read_csv('./images/20210830_fake/result.csv')   # TODO CHANGE NAME\n",
    "result_df['Signal'].plot()"
   ]
  },
  {
   "cell_type": "code",
   "execution_count": null,
   "id": "d63d0530",
   "metadata": {},
   "outputs": [],
   "source": [
    "# Running in parallel (if you want to run all at once)\n",
    "# run_parallel.main()"
   ]
  },
  {
   "cell_type": "markdown",
   "id": "c166c316",
   "metadata": {},
   "source": [
    "#### 9. Clean pump"
   ]
  },
  {
   "cell_type": "code",
   "execution_count": 3,
   "id": "77366aca",
   "metadata": {},
   "outputs": [],
   "source": [
    "# 0. General Cleaning \n",
    "# 2: PBS, 3: Air, 4: Ethanol   (order of the tubes in the pump)\n",
    "general_cleaning_procedure_fast(lsp)"
   ]
  },
  {
   "cell_type": "code",
   "execution_count": null,
   "id": "45bd8805",
   "metadata": {},
   "outputs": [],
   "source": []
  }
 ],
 "metadata": {
  "kernelspec": {
   "display_name": "Python 3 (ipykernel)",
   "language": "python",
   "name": "python3"
  },
  "language_info": {
   "codemirror_mode": {
    "name": "ipython",
    "version": 3
   },
   "file_extension": ".py",
   "mimetype": "text/x-python",
   "name": "python",
   "nbconvert_exporter": "python",
   "pygments_lexer": "ipython3",
   "version": "3.8.13"
  }
 },
 "nbformat": 4,
 "nbformat_minor": 5
}
