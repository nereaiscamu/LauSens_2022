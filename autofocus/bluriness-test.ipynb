{
 "cells": [
  {
   "cell_type": "code",
   "execution_count": 2,
   "metadata": {},
   "outputs": [],
   "source": [
    "import cv2\n",
    "import numpy as np\n",
    "import matplotlib.pyplot as plt\n",
    "import os"
   ]
  },
  {
   "cell_type": "markdown",
   "metadata": {},
   "source": [
    "### Blurriness metrics & down-sampling images\n",
    "Based on _Fast, high-precision autofocus on a motorised microscope: Automating blood sample imaging on the OpenFlexure Microscope_ from J. Knapper et al.\n",
    "\n",
    "Two blurriness metrics: \n",
    "- Laplacian variance\n",
    "- File size of jpeg\n",
    "\n",
    "Downsampling image can help to have a more precise bluriness metric."
   ]
  },
  {
   "cell_type": "code",
   "execution_count": 3,
   "metadata": {},
   "outputs": [],
   "source": [
    "def variance_of_laplacian(image):\n",
    "\treturn cv2.Laplacian(image, cv2.CV_64F).var()"
   ]
  },
  {
   "cell_type": "code",
   "execution_count": 4,
   "metadata": {},
   "outputs": [],
   "source": [
    "def blurre_lapace_var(imagePath):\n",
    "    image = cv2.imread(imagePath)\n",
    "    gray = cv2.cvtColor(image, cv2.COLOR_BGR2GRAY)\n",
    "    fm = variance_of_laplacian(gray)\n",
    "    print(\"Laplacian metric\", fm)\n",
    "    return fm\n",
    "\n",
    "def blurre_JPEG_size_b(imagePath):\n",
    "    file = open(imagePath)\n",
    "    file.seek(0, os.SEEK_END)\n",
    "    file_size_b = file.tell()\n",
    "    print(\"JPEG file size metric in bits\", file_size_b)\n",
    "    file.close()\n",
    "    return file_size_b\n",
    "\n",
    "def downsample_img(imagePath, ratio_scale):\n",
    "    # ratio_scale: int percentage of downsampling\n",
    "    image = cv2.imread(imagePath)\n",
    "    width = int(image.shape[1] * ratio_scale / 100)\n",
    "    height = int(image.shape[0] * ratio_scale / 100)\n",
    "    dim = (width, height)\n",
    "    resized = cv2.resize(image, dim, interpolation = cv2.INTER_AREA)\n",
    "    newImgPath = imgPath[:-4] + \"_DS_\" + str(ratio_scale) + \".jpeg\"\n",
    "    cv2.imwrite(newImgPath, resized)\n",
    "    return newImgPath"
   ]
  },
  {
   "cell_type": "markdown",
   "metadata": {},
   "source": [
    "### Tests"
   ]
  },
  {
   "cell_type": "code",
   "execution_count": 5,
   "metadata": {},
   "outputs": [
    {
     "name": "stdout",
     "output_type": "stream",
     "text": [
      "Sharp image\n",
      "Laplacian metric 314.2910500935073\n",
      "JPEG file size metric in bits 105064\n",
      "Laplacian metric 471.74990254810785\n",
      "JPEG file size metric in bits 94297\n",
      "Blurred image\n",
      "Laplacian metric 868.71022307321\n",
      "JPEG file size metric in bits 138434\n",
      "Laplacian metric 951.6693467524141\n",
      "JPEG file size metric in bits 117194\n"
     ]
    },
    {
     "data": {
      "text/plain": [
       "117194"
      ]
     },
     "execution_count": 5,
     "metadata": {},
     "output_type": "execute_result"
    }
   ],
   "source": [
    "ratio_scale = 60#%\n",
    "\n",
    "print(\"Sharp image\")\n",
    "imgPath = \"images/blur_1.jpeg\"\n",
    "blurre_lapace_var(imgPath)\n",
    "blurre_JPEG_size_b(imgPath)\n",
    "\n",
    "imgPath = downsample_img(imgPath, ratio_scale)\n",
    "blurre_lapace_var(imgPath)\n",
    "blurre_JPEG_size_b(imgPath)\n",
    "\n",
    "print(\"Blurred image\")\n",
    "imgPath = \"images/good_1.jpeg\"\n",
    "blurre_lapace_var(imgPath)\n",
    "blurre_JPEG_size_b(imgPath)\n",
    "\n",
    "imgPath = downsample_img(imgPath, ratio_scale)\n",
    "blurre_lapace_var(imgPath)\n",
    "blurre_JPEG_size_b(imgPath)"
   ]
  },
  {
   "cell_type": "markdown",
   "metadata": {},
   "source": [
    "Test for .fig file opening"
   ]
  },
  {
   "cell_type": "code",
   "execution_count": 13,
   "metadata": {},
   "outputs": [],
   "source": [
    "imgPath = \"images/1ngmL_0min_Acq2.fig\"\n",
    "#image = cv2.imread(imgPath)\n",
    "#newImgPath = \"1ngmL_0min_Acq2.jpeg\"\n",
    "#print(image)"
   ]
  },
  {
   "cell_type": "code",
   "execution_count": 146,
   "metadata": {},
   "outputs": [
    {
     "name": "stdout",
     "output_type": "stream",
     "text": [
      "{'__header__': b'MATLAB 5.0 MAT-file, Platform: PCWIN64, Created on: Tue Jul 12 17:30:37 2022', '__version__': '1.0', '__globals__': [], 'hgS_070000': array([[<scipy.io.matlab._mio5_params.mat_struct object at 0x7f3b127da130>]],\n",
      "      dtype=object), 'hgM_070000': array([[<scipy.io.matlab._mio5_params.mat_struct object at 0x7f3b127da280>]],\n",
      "      dtype=object), '__function_workspace__': array([[ 0,  1, 73, ...,  0,  0,  0]], dtype=uint8)}\n"
     ]
    },
    {
     "ename": "AttributeError",
     "evalue": "'numpy.ndarray' object has no attribute 'children'",
     "output_type": "error",
     "traceback": [
      "\u001b[0;31m---------------------------------------------------------------------------\u001b[0m",
      "\u001b[0;31mAttributeError\u001b[0m                            Traceback (most recent call last)",
      "\u001b[1;32m/home/gata/Bureau/SensUs/LauSens/bluriness-test.ipynb Cell 9\u001b[0m in \u001b[0;36m<cell line: 13>\u001b[0;34m()\u001b[0m\n\u001b[1;32m      <a href='vscode-notebook-cell:/home/gata/Bureau/SensUs/LauSens/bluriness-test.ipynb#ch0000012?line=8'>9</a>\u001b[0m         \u001b[39mprint\u001b[39m(data\u001b[39m.\u001b[39mtype)\n\u001b[1;32m     <a href='vscode-notebook-cell:/home/gata/Bureau/SensUs/LauSens/bluriness-test.ipynb#ch0000012?line=9'>10</a>\u001b[0m         \u001b[39mprint\u001b[39m(data\u001b[39m.\u001b[39mchildren)\n\u001b[0;32m---> <a href='vscode-notebook-cell:/home/gata/Bureau/SensUs/LauSens/bluriness-test.ipynb#ch0000012?line=12'>13</a>\u001b[0m plotFig(imgPath)\n",
      "\u001b[1;32m/home/gata/Bureau/SensUs/LauSens/bluriness-test.ipynb Cell 9\u001b[0m in \u001b[0;36mplotFig\u001b[0;34m(filename, fignr)\u001b[0m\n\u001b[1;32m      <a href='vscode-notebook-cell:/home/gata/Bureau/SensUs/LauSens/bluriness-test.ipynb#ch0000012?line=3'>4</a>\u001b[0m d \u001b[39m=\u001b[39m loadmat(filename, struct_as_record\u001b[39m=\u001b[39m\u001b[39mFalse\u001b[39;00m)\n\u001b[1;32m      <a href='vscode-notebook-cell:/home/gata/Bureau/SensUs/LauSens/bluriness-test.ipynb#ch0000012?line=4'>5</a>\u001b[0m \u001b[39mprint\u001b[39m(d)\n\u001b[0;32m----> <a href='vscode-notebook-cell:/home/gata/Bureau/SensUs/LauSens/bluriness-test.ipynb#ch0000012?line=5'>6</a>\u001b[0m ax1 \u001b[39m=\u001b[39m d[\u001b[39m'\u001b[39;49m\u001b[39mhgS_070000\u001b[39;49m\u001b[39m'\u001b[39;49m]\u001b[39m.\u001b[39;49mchildren  \n\u001b[1;32m      <a href='vscode-notebook-cell:/home/gata/Bureau/SensUs/LauSens/bluriness-test.ipynb#ch0000012?line=6'>7</a>\u001b[0m \u001b[39mprint\u001b[39m(d[\u001b[39m'\u001b[39m\u001b[39mhgS_070000\u001b[39m\u001b[39m'\u001b[39m]\u001b[39m.\u001b[39mchildren)\n\u001b[1;32m      <a href='vscode-notebook-cell:/home/gata/Bureau/SensUs/LauSens/bluriness-test.ipynb#ch0000012?line=7'>8</a>\u001b[0m \u001b[39mfor\u001b[39;00m data \u001b[39min\u001b[39;00m ax1\u001b[39m.\u001b[39mchildren:\n",
      "\u001b[0;31mAttributeError\u001b[0m: 'numpy.ndarray' object has no attribute 'children'"
     ]
    }
   ],
   "source": [
    "from scipy.io import loadmat, savemat\n",
    "\n",
    "def plotFig(filename,fignr=1):\n",
    "    d = loadmat(filename, struct_as_record=False)\n",
    "    print(d)\n",
    "    ax1 = d['hgS_070000'].children  \n",
    "    print(d['hgS_070000'].children)\n",
    "    for data in ax1.children:\n",
    "        print(data.type)\n",
    "        print(data.children)\n",
    "    \n",
    "\n",
    "plotFig(imgPath)"
   ]
  },
  {
   "cell_type": "markdown",
   "metadata": {},
   "source": [
    "### PoC"
   ]
  },
  {
   "cell_type": "code",
   "execution_count": 5,
   "metadata": {},
   "outputs": [
    {
     "name": "stdout",
     "output_type": "stream",
     "text": [
      "i)\n"
     ]
    },
    {
     "data": {
      "image/png": "[encoded data removed]",
      "text/plain": [
       "<Figure size 432x288 with 1 Axes>"
      ]
     },
     "metadata": {
      "needs_background": "light"
     },
     "output_type": "display_data"
    },
    {
     "name": "stdout",
     "output_type": "stream",
     "text": [
      "ii)\n"
     ]
    },
    {
     "data": {
      "image/png": "[encoded data removed]",
      "text/plain": [
       "<Figure size 432x288 with 1 Axes>"
      ]
     },
     "metadata": {
      "needs_background": "light"
     },
     "output_type": "display_data"
    },
    {
     "name": "stdout",
     "output_type": "stream",
     "text": [
      "Backlash =  1.0\n",
      "iii)\n"
     ]
    },
    {
     "ename": "TypeError",
     "evalue": "array() missing required argument 'object' (pos 0)",
     "output_type": "error",
     "traceback": [
      "\u001b[0;31m---------------------------------------------------------------------------\u001b[0m",
      "\u001b[0;31mTypeError\u001b[0m                                 Traceback (most recent call last)",
      "\u001b[1;32m/home/gata/Bureau/SensUs/LauSens/bluriness-test.ipynb Cell 8\u001b[0m in \u001b[0;36m<cell line: 36>\u001b[0;34m()\u001b[0m\n\u001b[1;32m     <a href='vscode-notebook-cell:/home/gata/Bureau/SensUs/LauSens/bluriness-test.ipynb#ch0000006?line=32'>33</a>\u001b[0m         \u001b[39mif\u001b[39;00m(\u001b[39mint\u001b[39m(stack_9_img\u001b[39m.\u001b[39mshape[\u001b[39m0\u001b[39m]\u001b[39m/\u001b[39m\u001b[39m2\u001b[39m) \u001b[39m>\u001b[39m\u001b[39m=\u001b[39m estimate_focal_point):\n\u001b[1;32m     <a href='vscode-notebook-cell:/home/gata/Bureau/SensUs/LauSens/bluriness-test.ipynb#ch0000006?line=33'>34</a>\u001b[0m             focal_point_below_stack_ctr \u001b[39m=\u001b[39m \u001b[39mFalse\u001b[39;00m\n\u001b[0;32m---> <a href='vscode-notebook-cell:/home/gata/Bureau/SensUs/LauSens/bluriness-test.ipynb#ch0000006?line=35'>36</a>\u001b[0m smart_z_stack()\n",
      "\u001b[1;32m/home/gata/Bureau/SensUs/LauSens/bluriness-test.ipynb Cell 8\u001b[0m in \u001b[0;36msmart_z_stack\u001b[0;34m()\u001b[0m\n\u001b[1;32m     <a href='vscode-notebook-cell:/home/gata/Bureau/SensUs/LauSens/bluriness-test.ipynb#ch0000006?line=19'>20</a>\u001b[0m estimate_focal_point \u001b[39m=\u001b[39m np\u001b[39m.\u001b[39margmax(sharpness_values_by_z[\u001b[39m0\u001b[39m])\n\u001b[1;32m     <a href='vscode-notebook-cell:/home/gata/Bureau/SensUs/LauSens/bluriness-test.ipynb#ch0000006?line=21'>22</a>\u001b[0m \u001b[39mwhile\u001b[39;00m(focal_point_below_stack_ctr):\n\u001b[1;32m     <a href='vscode-notebook-cell:/home/gata/Bureau/SensUs/LauSens/bluriness-test.ipynb#ch0000006?line=22'>23</a>\u001b[0m     \u001b[39m# move to a position below \u001b[39;00m\n\u001b[1;32m     <a href='vscode-notebook-cell:/home/gata/Bureau/SensUs/LauSens/bluriness-test.ipynb#ch0000006?line=23'>24</a>\u001b[0m     \u001b[39m# TODO\u001b[39;00m\n\u001b[1;32m     <a href='vscode-notebook-cell:/home/gata/Bureau/SensUs/LauSens/bluriness-test.ipynb#ch0000006?line=24'>25</a>\u001b[0m     \u001b[39m# collect a stack of 9 images with their sharpness + z-position\u001b[39;00m\n\u001b[1;32m     <a href='vscode-notebook-cell:/home/gata/Bureau/SensUs/LauSens/bluriness-test.ipynb#ch0000006?line=25'>26</a>\u001b[0m     \u001b[39m# TODO\u001b[39;00m\n\u001b[0;32m---> <a href='vscode-notebook-cell:/home/gata/Bureau/SensUs/LauSens/bluriness-test.ipynb#ch0000006?line=26'>27</a>\u001b[0m     stack_9_img \u001b[39m=\u001b[39m np\u001b[39m.\u001b[39;49marray()\n\u001b[1;32m     <a href='vscode-notebook-cell:/home/gata/Bureau/SensUs/LauSens/bluriness-test.ipynb#ch0000006?line=27'>28</a>\u001b[0m     \u001b[39mwhile\u001b[39;00m(\u001b[39mint\u001b[39m(stack_9_img\u001b[39m.\u001b[39mshape[\u001b[39m0\u001b[39m]\u001b[39m/\u001b[39m\u001b[39m2\u001b[39m) \u001b[39m>\u001b[39m estimate_focal_point):\n\u001b[1;32m     <a href='vscode-notebook-cell:/home/gata/Bureau/SensUs/LauSens/bluriness-test.ipynb#ch0000006?line=28'>29</a>\u001b[0m         estimate_focal_point \u001b[39m=\u001b[39m np\u001b[39m.\u001b[39margmax(stack_9_img[\u001b[39m0\u001b[39m])\n",
      "\u001b[0;31mTypeError\u001b[0m: array() missing required argument 'object' (pos 0)"
     ]
    }
   ],
   "source": [
    "def smart_z_stack():\n",
    "    range_first_curve = 8\n",
    "    sharpness_values_by_z = np.array([[104488, 104488, 126399, 120399, 130399, 136399, 120000, 120000], np.arange(range_first_curve)])\n",
    "    print(\"i)\")\n",
    "    plt.plot(sharpness_values_by_z[1], sharpness_values_by_z[0])\n",
    "    plt.show()\n",
    "\n",
    "    range_second_curve = 4\n",
    "    second_shorter_curve_by_z = np.array([[104488, 104488, 126399, 120399], np.arange(range_second_curve) + 1])\n",
    "    print(\"ii)\")\n",
    "    plt.plot(sharpness_values_by_z[1], sharpness_values_by_z[0])\n",
    "    plt.plot(second_shorter_curve_by_z[1], second_shorter_curve_by_z[0])\n",
    "    plt.show()\n",
    "\n",
    "    backlash = np.mean(second_shorter_curve_by_z[1] - sharpness_values_by_z[1][:range_second_curve])\n",
    "    print(\"Backlash = \", backlash)\n",
    "\n",
    "    print(\"iii)\")\n",
    "    focal_point_below_stack_ctr = True\n",
    "    estimate_focal_point = np.argmax(sharpness_values_by_z[0])\n",
    "\n",
    "    while(focal_point_below_stack_ctr):\n",
    "        # move to a position below \n",
    "        # TODO\n",
    "        # collect a stack of 9 images with their sharpness + z-position\n",
    "        # TODO\n",
    "        stack_9_img = np.array()\n",
    "        while(int(stack_9_img.shape[0]/2) > estimate_focal_point):\n",
    "            estimate_focal_point = np.argmax(stack_9_img[0])\n",
    "            # if above center of the stack, move up and collect another image\n",
    "            # TODO\n",
    "            estimate_focal_point = np.argmax(stack_9_img[0])\n",
    "        if(int(stack_9_img.shape[0]/2) >= estimate_focal_point):\n",
    "            focal_point_below_stack_ctr = False\n",
    "\n",
    "smart_z_stack()"
   ]
  },
  {
   "cell_type": "code",
   "execution_count": null,
   "metadata": {},
   "outputs": [
    {
     "data": {
      "text/plain": [
       "4"
      ]
     },
     "execution_count": 84,
     "metadata": {},
     "output_type": "execute_result"
    }
   ],
   "source": []
  },
  {
   "cell_type": "code",
   "execution_count": null,
   "metadata": {},
   "outputs": [],
   "source": []
  }
 ],
 "metadata": {
  "kernelspec": {
   "display_name": "Python 3 (ipykernel)",
   "language": "python",
   "name": "python3"
  },
  "language_info": {
   "codemirror_mode": {
    "name": "ipython",
    "version": 3
   },
   "file_extension": ".py",
   "mimetype": "text/x-python",
   "name": "python",
   "nbconvert_exporter": "python",
   "pygments_lexer": "ipython3",
   "version": "3.8.10"
  },
  "vscode": {
   "interpreter": {
    "hash": "916dbcbb3f70747c44a77c7bcd40155683ae19c65e1c03b4aa3499c5328201f1"
   }
  }
 },
 "nbformat": 4,
 "nbformat_minor": 2
}
